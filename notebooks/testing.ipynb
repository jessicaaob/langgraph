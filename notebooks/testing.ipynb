{
 "cells": [
  {
   "cell_type": "markdown",
   "metadata": {},
   "source": [
    "## Simple Graph Test"
   ]
  },
  {
   "cell_type": "code",
   "execution_count": 6,
   "metadata": {},
   "outputs": [],
   "source": [
    "import langgraph\n",
    "from langgraph.graph import Graph\n"
   ]
  },
  {
   "cell_type": "code",
   "execution_count": 10,
   "metadata": {},
   "outputs": [
    {
     "data": {
      "text/plain": [
       "'Hello Emily'"
      ]
     },
     "execution_count": 10,
     "metadata": {},
     "output_type": "execute_result"
    }
   ],
   "source": [
    "def function_1(input):\n",
    "    return f\"Hello {input}\"\n",
    "function_1('Emily')"
   ]
  },
  {
   "cell_type": "code",
   "execution_count": 12,
   "metadata": {},
   "outputs": [
    {
     "data": {
      "text/plain": [
       "'Mary, how are you?'"
      ]
     },
     "execution_count": 12,
     "metadata": {},
     "output_type": "execute_result"
    }
   ],
   "source": [
    "def function_2(input):\n",
    "    return f\"{input}, how are you?\"\n",
    "function_2('Mary')"
   ]
  },
  {
   "cell_type": "code",
   "execution_count": 16,
   "metadata": {},
   "outputs": [],
   "source": [
    "workflow = Graph()\n",
    "\n",
    "workflow.add_node(\"node_1\", function_1)\n",
    "workflow.add_node(\"node_2\", function_2)\n",
    "\n",
    "workflow.add_edge('node_1','node_2')\n",
    "\n",
    "workflow.set_entry_point('node_1')\n",
    "workflow.set_finish_point('node_2')\n",
    "\n",
    "app = workflow.compile()"
   ]
  },
  {
   "cell_type": "code",
   "execution_count": 17,
   "metadata": {},
   "outputs": [
    {
     "name": "stdout",
     "output_type": "stream",
     "text": [
      "Hello Jessica, how are you?\n"
     ]
    }
   ],
   "source": [
    "print(app.invoke('Jessica'))"
   ]
  },
  {
   "cell_type": "code",
   "execution_count": 20,
   "metadata": {},
   "outputs": [
    {
     "name": "stdout",
     "output_type": "stream",
     "text": [
      "\n",
      "------\\node_1\\-----\n",
      "\n",
      "Output:\n",
      "Hello Jess\n",
      "\n",
      "-----\\node_1\\----\n",
      "\n",
      "\n",
      "\n",
      "------>\n",
      "\n",
      "\n",
      "\n",
      "------\\node_2\\-----\n",
      "\n",
      "Output:\n",
      "Hello Jess, how are you?\n",
      "\n",
      "-----\\node_2\\----\n",
      "\n",
      "\n",
      "\n",
      "------>\n",
      "\n",
      "\n"
     ]
    }
   ],
   "source": [
    "input = 'Jess'\n",
    "for output in app.stream(input):\n",
    "    for key, value in output.items():\n",
    "        print(f\"\\n------\\{key}\\-----\\n\")\n",
    "        print(f\"Output:\\n{value}\")\n",
    "        print(f\"\\n-----\\{key}\\----\\n\")\n",
    "    print(\"\\n\\n------>\\n\\n\")"
   ]
  },
  {
   "cell_type": "code",
   "execution_count": null,
   "metadata": {},
   "outputs": [],
   "source": []
  }
 ],
 "metadata": {
  "kernelspec": {
   "display_name": "youtube_graph",
   "language": "python",
   "name": "python3"
  },
  "language_info": {
   "codemirror_mode": {
    "name": "ipython",
    "version": 3
   },
   "file_extension": ".py",
   "mimetype": "text/x-python",
   "name": "python",
   "nbconvert_exporter": "python",
   "pygments_lexer": "ipython3",
   "version": "3.9.20"
  }
 },
 "nbformat": 4,
 "nbformat_minor": 2
}
